{
 "cells": [
  {
   "cell_type": "code",
   "execution_count": 1,
   "metadata": {
    "ExecuteTime": {
     "end_time": "2022-04-24T02:27:39.850910Z",
     "start_time": "2022-04-24T02:27:35.709580Z"
    }
   },
   "outputs": [],
   "source": [
    "%config InlineBackend.figure_format = 'retina'\n",
    "\n",
    "from matplotlib import pyplot as plt\n",
    "import matplotlib.ticker as ticker\n",
    "import matplotlib.font_manager as font_manager\n",
    "import matplotlib as mpl\n",
    "import matplotlib.patches as mp\n",
    "import seaborn as sns\n",
    "\n",
    "# 设置全局字体\n",
    "font_dirs = ['/public/home/mowp/test/fonts/']\n",
    "font_files = font_manager.findSystemFonts(fontpaths=font_dirs)\n",
    "\n",
    "for font_file in font_files:\n",
    "    font_manager.fontManager.addfont(font_file)\n",
    "\n",
    "plt.rcParams['font.family'] = 'Arial'\n",
    "plt.rcParams['font.size'] = 12\n",
    "plt.rcParams['svg.fonttype'] = 'none'"
   ]
  },
  {
   "cell_type": "code",
   "execution_count": 2,
   "metadata": {
    "ExecuteTime": {
     "end_time": "2022-04-24T02:27:39.856976Z",
     "start_time": "2022-04-24T02:27:39.853693Z"
    }
   },
   "outputs": [],
   "source": [
    "import pandas as pd\n",
    "import numpy as np"
   ]
  },
  {
   "cell_type": "code",
   "execution_count": 3,
   "metadata": {
    "ExecuteTime": {
     "end_time": "2022-04-24T02:27:39.913953Z",
     "start_time": "2022-04-24T02:27:39.859232Z"
    }
   },
   "outputs": [],
   "source": [
    "import sys\n",
    "sys.path.append('/public1/mowp/workspace/mowp_scripts/tools/analysis')\n",
    "%load_ext autoreload\n",
    "%autoreload 1"
   ]
  },
  {
   "cell_type": "code",
   "execution_count": 4,
   "metadata": {
    "ExecuteTime": {
     "end_time": "2022-04-24T02:27:39.922472Z",
     "start_time": "2022-04-24T02:27:39.916691Z"
    }
   },
   "outputs": [],
   "source": [
    "%aimport plot"
   ]
  },
  {
   "cell_type": "code",
   "execution_count": 5,
   "metadata": {
    "ExecuteTime": {
     "end_time": "2022-04-24T02:27:39.928042Z",
     "start_time": "2022-04-24T02:27:39.924391Z"
    }
   },
   "outputs": [],
   "source": [
    "pal = plot.color_pal('set2')\n",
    "sns.set_palette(pal)"
   ]
  },
  {
   "cell_type": "code",
   "execution_count": 6,
   "metadata": {
    "ExecuteTime": {
     "end_time": "2022-04-24T02:27:39.936009Z",
     "start_time": "2022-04-24T02:27:39.930010Z"
    }
   },
   "outputs": [],
   "source": [
    "import os\n",
    "\n",
    "COLOR = {\n",
    "    \"HEADER\": \"\\033[95m\",\n",
    "    \"blue\": \"\\033[94m\",\n",
    "    \"green\": \"\\033[92m\",\n",
    "    \"red\": \"\\033[91m\",\n",
    "    \"ENDC\": \"\\033[0m\",\n",
    "}\n",
    "\n",
    "def shell_print(text, color='blue'):\n",
    "    print(COLOR[color], text, COLOR[\"ENDC\"])"
   ]
  },
  {
   "cell_type": "markdown",
   "metadata": {
    "colab_type": "text",
    "id": "CkOdsVD4FGyR"
   },
   "source": [
    "<h1>Structural Variation Pipeline Tutorial</h1>\n",
    "\n",
    "This tutorial provides an introduction to the detection and analysis of structural variation (SV) from Oxford Nanopore Technologies whole human genome sequencing experiments. The tutorial walks through and introduces the steps involved in SV detection, filtering and refinement. The workflow introduced uses a human reads dataset (`.fastq` file) as its starting point.\n",
    "\n",
    "Computational requirements for this tutorial include:\n",
    "\n",
    "* Computer running the EPI2ME Labs notebook Server\n",
    "* At least 16Gb RAM\n",
    "\n",
    "> ⚠️ Warning: This notebook has been saved with its outputs for demostration purposed. It is recommeded to select Edit > Clear all outputs before using the notebook to analyse your own data."
   ]
  },
  {
   "cell_type": "markdown",
   "metadata": {
    "colab_type": "text",
    "id": "RZoNCfABd63k"
   },
   "source": [
    "## Introduction\n",
    "\n",
    "Long read DNA sequences, when mapped to a reference genome, can be used for the discovery and characterisation of structural variation. This is achieved by investigating discordant mapping where regions of a single sequenced DNA molecule map to different regions of the genome. Software packages such as [cuteSV](https://github.com/tjiangHIT/cuteSV) identify these discordant regions and can be used to call insertions, deletions, duplications, and more.\n",
    "\n",
    "This tutorial is based on the Oxford Nanopore Technologies [wf-human-sv](https://github.com/epi2me-labs/wf-human-sv) software, which is an automated end-to-end workflow available on github. This analysis pipeline utilises the [cuteSV](https://github.com/tjiangHIT/cuteSV) software and may be used to identify high confidence genomic insertion and deletion events in Human datasets.\n",
    "\n",
    "The tutorial is packaged with example data from the [Genome in a Bottle](https://www.nist.gov/programs-projects/genome-bottle) project ([GM24385](https://www.coriell.org/0/Sections/Search/Sample_Detail.aspx?Ref=GM24385&Product=CC)). The analysis considers a collection of sequence reads that map to a 50 Mb region from Chromosome 20.\n",
    "\n",
    "The workflow covered in this tutorial will:\n",
    "\n",
    "* Assess some whole genome human sequencing data in `.fastq` format in terms of read length and quality.\n",
    "* Align our sequencing data to the reference genome using `LRA`.\n",
    "* Assess the resulting `.bam` file for qualitative characteristics including mapping quality, number of mapped reads and depth-of-coverage.\n",
    "* Identify a set of SVs relative to a human reference genome using `cuteSV`.\n",
    "* Refine the SVs to produce a high quality subset in a `.vcf` format file.\n",
    "\n",
    "The tutorial workflow will answer questions such as:\n",
    "\n",
    "* How many sequence reads map to the reference genome?\n",
    "* What is the depth of sequence coverage across the genome?\n",
    "* How many SVs can be identified, what is their size distribution, and how frequent are the different types of SV?"
   ]
  },
  {
   "cell_type": "markdown",
   "metadata": {
    "colab_type": "text",
    "id": "z0L95Ko61LtN"
   },
   "source": [
    "## Getting started\n",
    "\n",
    "The structural variation tutorial requires long read whole genome human sequencing data in `.fastq` format. An example dataset is provided with this workflow.\n",
    "\n",
    "> Tip: To execute the commands click on the cell and then press Command/Ctrl-Enter, or click the Play symbol to the left-hand side. \n",
    "\n",
    "Before anything else we will create and set a working directory:"
   ]
  },
  {
   "cell_type": "markdown",
   "metadata": {
    "colab_type": "text",
    "id": "v4aBV-9WYUg2"
   },
   "source": [
    "### Install additional software\n",
    "\n",
    "*Please note that the software installed is not persistent and this step will need to be re-run if you stop and restart the EPI2ME Labs server*"
   ]
  },
  {
   "cell_type": "code",
   "execution_count": null,
   "metadata": {
    "tags": []
   },
   "outputs": [],
   "source": [
    "# Install additional packages via mamba (click play)\n",
    "! mamba install lra cuteSV seqtk fastcat -yq"
   ]
  },
  {
   "cell_type": "markdown",
   "metadata": {
    "colab_type": "text",
    "id": "1wuvN1K3IBrC"
   },
   "source": [
    "### Sample data\n",
    "\n",
    "To demonstrate this structural variation workflow a small dataset is provided. This dataset corresponds to sequence reads from the GM12878 human reference material that map to the hg19 reference genome. To facilitate a quick analysis and speedy download the whole dataset has been downsampled to a 50 Mb region of chromosome 20.\n",
    "\n",
    "The code below will download the sample `.fastq` reads, the reference genome in `.fasta` format and a tabular `.bed` file for targeted calling. The `wget` command is used to download the files."
   ]
  },
  {
   "cell_type": "code",
   "execution_count": null,
   "metadata": {
    "ExecuteTime": {
     "end_time": "2022-04-22T04:03:36.003344Z",
     "start_time": "2022-04-22T03:50:12.139905Z"
    },
    "colab": {},
    "colab_type": "code",
    "id": "-BhXROCYIa7j",
    "partialCollapse": true,
    "tags": []
   },
   "outputs": [],
   "source": [
    "# Download sample data (click play)\n",
    "import os\n",
    "\n",
    "# download the data\n",
    "location='s3://ont-exd-int-s3-euwst1-epi2me-labs/sv_tutorial'\n",
    "s3_bucket = \"ont-exd-int-s3-euwst1-epi2me-labs\"\n",
    "s3_prefix = \"sv_tutorial/GM24385.nf7.chr20_af_minimap2.fastq.gz\"\n",
    "s3_reference = \"sv_tutorial/chr20_human_g1k_v37.fasta.gz\"\n",
    "s3_bedfile = \"sv_tutorial/target.bed\"\n",
    "s3_alignments = \"sv_tutorial/GM24385.nf7.chr20_af_minimap2.bam\"\n",
    "reads = os.path.basename(s3_prefix)\n",
    "bam = os.path.basename(s3_alignments)\n",
    "reference = os.path.basename(s3_reference)\n",
    "!echo \"Downloading sample data\"\n",
    "!wget -c -O \"$reads\" https://\"$s3_bucket\".s3.amazonaws.com/\"$s3_prefix\"\n",
    "!wget -c -O \"$reference\" https://\"$s3_bucket\".s3.amazonaws.com/\"$s3_reference\"\n",
    "!wget -c -O \"target.bed\" https://\"$s3_bucket\".s3.amazonaws.com/\"$s3_bedfile\"\n",
    "!wget -c -O \"$bam\"  https://\"$s3_bucket\".s3.amazonaws.com/\"$s3_alignments\""
   ]
  },
  {
   "cell_type": "markdown",
   "metadata": {
    "colab_type": "text",
    "id": "nh7-4mZeXHRA"
   },
   "source": [
    "### Using your own data\n",
    "\n",
    "If you wish to analyse your own data rather than the sample data, you can edit the value `.fastq input` variable below. To find the correct full path of a directory you can navigate to it in\n",
    "the `Files` browser to the left-hand side, right-click on the file and select `Copy path`:"
   ]
  },
  {
   "cell_type": "markdown",
   "metadata": {
    "colab_type": "text",
    "id": "vDCEs7E3Zy60"
   },
   "source": [
    "![image.png](data:image/png;base64,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)"
   ]
  },
  {
   "cell_type": "markdown",
   "metadata": {
    "colab_type": "text",
    "id": "p9X-aw8nCvG5"
   },
   "source": [
    "## Data input\n",
    "\n",
    "Having downloaded the sample data, or locating your own data in the file browser, we need to provide the appropriate file locations as input to the notebook.\n",
    "\n",
    "The main inputs are:\n",
    "\n",
    "* `fastq` is the set of reads in `.fastq` format (gzip allowed).\n",
    "* `reference` is the reference genome file in `.fasta` format (gzip allowed).\n",
    "* `target_bed` is a `.bed` coordinate file that defines the genomic regions of interest. If you do not wish to filter by a region leave this field empty. See the appendix for more details.\n",
    "* `threads` defines the number of compute threads that will be used by the processes that can multi-thread. Please do not use more threads than are available on your computer.\n",
    "\n",
    "Finally, we can also tune the characteristics of the SV analysis using the following inputs:\n",
    "\n",
    "* `min_sv_length` and `max_sv_length` defines the length of the shortest and longest allowable structural variations respectively.\n",
    "* `min_read_length` sets the minimum length of reads to be considered when discovering SVs.\n",
    "* `min_read_support` determines how many reads at minimum must be in support of a potential SV for it to be called.\n",
    "* `mean_read_mapping_quality` sets the minimum average quality of reads to be considered when discovering SVs.\n",
    "\n",
    "The form below can also be edited to reflect different values for the above options, but sensible defaults are provided. Ensure that you click the form `Enter` button to set the variables for the rest of the workflow."
   ]
  },
  {
   "cell_type": "markdown",
   "metadata": {},
   "source": [
    "### Inspecting input data (optional)\n",
    "\n",
    "Prior to beginning the analysis proper, it is always prudent to inspect the data we are going to use in our workflow, specficically casting our eye over `read_lengths` and `quality scores`. We want to ascertain that these distributions look like we expect them to look, specifically that the read lengths are sufficient for SV calling (too short and the SV calling will be suboptimal) and that the quality of the reads is not significantly lower than expected (lower means there is likely to be higher error within the reads rate leading to a drop in call accuracy).\n",
    "\n",
    "To perform these checks we will run `seqkit stats` and `fastcat` to generate a range of summary information, which can then be displayed in tabular format or plotted as distributions."
   ]
  },
  {
   "cell_type": "code",
   "execution_count": 7,
   "metadata": {
    "ExecuteTime": {
     "end_time": "2022-04-24T02:27:53.670032Z",
     "start_time": "2022-04-24T02:27:53.663897Z"
    }
   },
   "outputs": [
    {
     "name": "stdout",
     "output_type": "stream",
     "text": [
      "\u001b[94m seqkit stats -T -a -b -j 48 GM24385.nf7.chr20_af_minimap2.fastq.gz > reads.seqkit.tsv \u001b[0m\n"
     ]
    }
   ],
   "source": [
    "# Seqkit (optional)\n",
    "threads = 48\n",
    "fastq = 'GM24385.nf7.chr20_af_minimap2.fastq.gz'\n",
    "read_stats = \"reads.seqkit.tsv\"\n",
    "\n",
    "cmd = f\"seqkit stats -T -a -b -j {threads} {fastq} > {read_stats}\"\n",
    "\n",
    "shell_print(cmd)"
   ]
  },
  {
   "cell_type": "code",
   "execution_count": 8,
   "metadata": {
    "ExecuteTime": {
     "end_time": "2022-04-24T02:27:54.288884Z",
     "start_time": "2022-04-24T02:27:54.254987Z"
    }
   },
   "outputs": [
    {
     "data": {
      "text/html": [
       "<div>\n",
       "<style scoped>\n",
       "    .dataframe tbody tr th:only-of-type {\n",
       "        vertical-align: middle;\n",
       "    }\n",
       "\n",
       "    .dataframe tbody tr th {\n",
       "        vertical-align: top;\n",
       "    }\n",
       "\n",
       "    .dataframe thead th {\n",
       "        text-align: right;\n",
       "    }\n",
       "</style>\n",
       "<table border=\"1\" class=\"dataframe\">\n",
       "  <thead>\n",
       "    <tr style=\"text-align: right;\">\n",
       "      <th></th>\n",
       "      <th>file</th>\n",
       "      <th>format</th>\n",
       "      <th>type</th>\n",
       "      <th>num_seqs</th>\n",
       "      <th>sum_len</th>\n",
       "      <th>min_len</th>\n",
       "      <th>avg_len</th>\n",
       "      <th>max_len</th>\n",
       "      <th>Q1</th>\n",
       "      <th>Q2</th>\n",
       "      <th>Q3</th>\n",
       "      <th>sum_gap</th>\n",
       "      <th>N50</th>\n",
       "      <th>Q20(%)</th>\n",
       "      <th>Q30(%)</th>\n",
       "    </tr>\n",
       "  </thead>\n",
       "  <tbody>\n",
       "    <tr>\n",
       "      <th>0</th>\n",
       "      <td>GM24385.nf7.chr20_af_minimap2.fastq.gz</td>\n",
       "      <td>FASTQ</td>\n",
       "      <td>DNA</td>\n",
       "      <td>88893</td>\n",
       "      <td>1668011592</td>\n",
       "      <td>152</td>\n",
       "      <td>18764.3</td>\n",
       "      <td>302406</td>\n",
       "      <td>2563</td>\n",
       "      <td>6922</td>\n",
       "      <td>21750</td>\n",
       "      <td>0</td>\n",
       "      <td>52493</td>\n",
       "      <td>63.68</td>\n",
       "      <td>45.43</td>\n",
       "    </tr>\n",
       "  </tbody>\n",
       "</table>\n",
       "</div>"
      ],
      "text/plain": [
       "                                     file format type  num_seqs     sum_len  \\\n",
       "0  GM24385.nf7.chr20_af_minimap2.fastq.gz  FASTQ  DNA     88893  1668011592   \n",
       "\n",
       "   min_len  avg_len  max_len    Q1    Q2     Q3  sum_gap    N50  Q20(%)  \\\n",
       "0      152  18764.3   302406  2563  6922  21750        0  52493   63.68   \n",
       "\n",
       "   Q30(%)  \n",
       "0   45.43  "
      ]
     },
     "execution_count": 8,
     "metadata": {},
     "output_type": "execute_result"
    }
   ],
   "source": [
    "df_reads = pd.read_csv(read_stats, sep='\\t')\n",
    "df_reads"
   ]
  },
  {
   "cell_type": "code",
   "execution_count": 9,
   "metadata": {
    "ExecuteTime": {
     "end_time": "2022-04-24T02:27:54.861455Z",
     "start_time": "2022-04-24T02:27:54.855907Z"
    }
   },
   "outputs": [
    {
     "name": "stdout",
     "output_type": "stream",
     "text": [
      "\u001b[94m fastcat --read per_read_stats.txt GM24385.nf7.chr20_af_minimap2.fastq.gz > /dev/null \u001b[0m\n"
     ]
    }
   ],
   "source": [
    "# Fastcat (optional)\n",
    "per_read_stats = 'per_read_stats.txt'\n",
    "\n",
    "cmd = f\"fastcat --read {per_read_stats} {fastq} > /dev/null\"\n",
    "\n",
    "shell_print(cmd)"
   ]
  },
  {
   "cell_type": "code",
   "execution_count": 10,
   "metadata": {
    "ExecuteTime": {
     "end_time": "2022-04-24T02:27:55.813649Z",
     "start_time": "2022-04-24T02:27:55.494964Z"
    }
   },
   "outputs": [
    {
     "data": {
      "text/html": [
       "<div>\n",
       "<style scoped>\n",
       "    .dataframe tbody tr th:only-of-type {\n",
       "        vertical-align: middle;\n",
       "    }\n",
       "\n",
       "    .dataframe tbody tr th {\n",
       "        vertical-align: top;\n",
       "    }\n",
       "\n",
       "    .dataframe thead th {\n",
       "        text-align: right;\n",
       "    }\n",
       "</style>\n",
       "<table border=\"1\" class=\"dataframe\">\n",
       "  <thead>\n",
       "    <tr style=\"text-align: right;\">\n",
       "      <th></th>\n",
       "      <th>read_id</th>\n",
       "      <th>filename</th>\n",
       "      <th>read_length</th>\n",
       "      <th>mean_quality</th>\n",
       "    </tr>\n",
       "  </thead>\n",
       "  <tbody>\n",
       "    <tr>\n",
       "      <th>0</th>\n",
       "      <td>0175f4dc-e60a-45fc-9160-52120d6acdec</td>\n",
       "      <td>GM24385.nf7.chr20_af_minimap2.fastq.gz</td>\n",
       "      <td>109226</td>\n",
       "      <td>11.09</td>\n",
       "    </tr>\n",
       "    <tr>\n",
       "      <th>1</th>\n",
       "      <td>48e6444a-5b38-4d1e-923f-9c50db41db7c</td>\n",
       "      <td>GM24385.nf7.chr20_af_minimap2.fastq.gz</td>\n",
       "      <td>49387</td>\n",
       "      <td>12.76</td>\n",
       "    </tr>\n",
       "    <tr>\n",
       "      <th>2</th>\n",
       "      <td>2d34865e-10bc-4043-bbc7-267be5861b4e</td>\n",
       "      <td>GM24385.nf7.chr20_af_minimap2.fastq.gz</td>\n",
       "      <td>8513</td>\n",
       "      <td>12.37</td>\n",
       "    </tr>\n",
       "    <tr>\n",
       "      <th>3</th>\n",
       "      <td>a9176777-5819-4eee-b426-8b210557c013</td>\n",
       "      <td>GM24385.nf7.chr20_af_minimap2.fastq.gz</td>\n",
       "      <td>36824</td>\n",
       "      <td>9.81</td>\n",
       "    </tr>\n",
       "    <tr>\n",
       "      <th>4</th>\n",
       "      <td>9270a16f-1325-43bb-a9ab-8633a5240718</td>\n",
       "      <td>GM24385.nf7.chr20_af_minimap2.fastq.gz</td>\n",
       "      <td>83950</td>\n",
       "      <td>12.77</td>\n",
       "    </tr>\n",
       "    <tr>\n",
       "      <th>...</th>\n",
       "      <td>...</td>\n",
       "      <td>...</td>\n",
       "      <td>...</td>\n",
       "      <td>...</td>\n",
       "    </tr>\n",
       "    <tr>\n",
       "      <th>88888</th>\n",
       "      <td>642d8290-5c12-4163-a664-899118369142</td>\n",
       "      <td>GM24385.nf7.chr20_af_minimap2.fastq.gz</td>\n",
       "      <td>3575</td>\n",
       "      <td>12.11</td>\n",
       "    </tr>\n",
       "    <tr>\n",
       "      <th>88889</th>\n",
       "      <td>9fa3f9f4-592c-4e4f-ac5b-eb22f34a4f61</td>\n",
       "      <td>GM24385.nf7.chr20_af_minimap2.fastq.gz</td>\n",
       "      <td>3607</td>\n",
       "      <td>11.75</td>\n",
       "    </tr>\n",
       "    <tr>\n",
       "      <th>88890</th>\n",
       "      <td>7bbf4f92-13bc-468f-aab5-630aa27900e7</td>\n",
       "      <td>GM24385.nf7.chr20_af_minimap2.fastq.gz</td>\n",
       "      <td>4059</td>\n",
       "      <td>7.37</td>\n",
       "    </tr>\n",
       "    <tr>\n",
       "      <th>88891</th>\n",
       "      <td>ddca39ff-1527-4d3d-a42e-a1dac1ef955b</td>\n",
       "      <td>GM24385.nf7.chr20_af_minimap2.fastq.gz</td>\n",
       "      <td>30769</td>\n",
       "      <td>8.30</td>\n",
       "    </tr>\n",
       "    <tr>\n",
       "      <th>88892</th>\n",
       "      <td>464b9f4e-7141-4955-ba4b-2ea509c63b4a</td>\n",
       "      <td>GM24385.nf7.chr20_af_minimap2.fastq.gz</td>\n",
       "      <td>3758</td>\n",
       "      <td>7.25</td>\n",
       "    </tr>\n",
       "  </tbody>\n",
       "</table>\n",
       "<p>88893 rows × 4 columns</p>\n",
       "</div>"
      ],
      "text/plain": [
       "                                    read_id  \\\n",
       "0      0175f4dc-e60a-45fc-9160-52120d6acdec   \n",
       "1      48e6444a-5b38-4d1e-923f-9c50db41db7c   \n",
       "2      2d34865e-10bc-4043-bbc7-267be5861b4e   \n",
       "3      a9176777-5819-4eee-b426-8b210557c013   \n",
       "4      9270a16f-1325-43bb-a9ab-8633a5240718   \n",
       "...                                     ...   \n",
       "88888  642d8290-5c12-4163-a664-899118369142   \n",
       "88889  9fa3f9f4-592c-4e4f-ac5b-eb22f34a4f61   \n",
       "88890  7bbf4f92-13bc-468f-aab5-630aa27900e7   \n",
       "88891  ddca39ff-1527-4d3d-a42e-a1dac1ef955b   \n",
       "88892  464b9f4e-7141-4955-ba4b-2ea509c63b4a   \n",
       "\n",
       "                                     filename  read_length  mean_quality  \n",
       "0      GM24385.nf7.chr20_af_minimap2.fastq.gz       109226         11.09  \n",
       "1      GM24385.nf7.chr20_af_minimap2.fastq.gz        49387         12.76  \n",
       "2      GM24385.nf7.chr20_af_minimap2.fastq.gz         8513         12.37  \n",
       "3      GM24385.nf7.chr20_af_minimap2.fastq.gz        36824          9.81  \n",
       "4      GM24385.nf7.chr20_af_minimap2.fastq.gz        83950         12.77  \n",
       "...                                       ...          ...           ...  \n",
       "88888  GM24385.nf7.chr20_af_minimap2.fastq.gz         3575         12.11  \n",
       "88889  GM24385.nf7.chr20_af_minimap2.fastq.gz         3607         11.75  \n",
       "88890  GM24385.nf7.chr20_af_minimap2.fastq.gz         4059          7.37  \n",
       "88891  GM24385.nf7.chr20_af_minimap2.fastq.gz        30769          8.30  \n",
       "88892  GM24385.nf7.chr20_af_minimap2.fastq.gz         3758          7.25  \n",
       "\n",
       "[88893 rows x 4 columns]"
      ]
     },
     "execution_count": 10,
     "metadata": {},
     "output_type": "execute_result"
    }
   ],
   "source": [
    "df_per_read = pd.read_csv(per_read_stats, sep='\\t')[['read_id','filename','read_length','mean_quality']]\n",
    "df_per_read"
   ]
  },
  {
   "cell_type": "code",
   "execution_count": 11,
   "metadata": {
    "ExecuteTime": {
     "end_time": "2022-04-24T02:27:56.881457Z",
     "start_time": "2022-04-24T02:27:56.511259Z"
    }
   },
   "outputs": [
    {
     "name": "stdout",
     "output_type": "stream",
     "text": [
      "Mean: 18764.26\n",
      "Medain: 6922.00\n"
     ]
    },
    {
     "data": {
      "image/png": "[encoded data removed]",
      "text/plain": [
       "<Figure size 432x288 with 1 Axes>"
      ]
     },
     "metadata": {
      "image/png": {
       "height": 265,
       "width": 409
      },
      "needs_background": "light"
     },
     "output_type": "display_data"
    }
   ],
   "source": [
    "ax = df_per_read['read_length'].hist(bins=20, range=(0, 100_000))\n",
    "ax.set_xlabel('Read length / bases')\n",
    "ax.set_ylabel('Numer of reads')\n",
    "\n",
    "print(f'Mean: {np.mean(df_per_read[\"read_length\"]):.02f}')\n",
    "print(f'Medain: {np.median(df_per_read[\"read_length\"]):.02f}')"
   ]
  },
  {
   "cell_type": "code",
   "execution_count": 12,
   "metadata": {
    "ExecuteTime": {
     "end_time": "2022-04-24T02:27:59.124499Z",
     "start_time": "2022-04-24T02:27:58.519326Z"
    }
   },
   "outputs": [
    {
     "name": "stdout",
     "output_type": "stream",
     "text": [
      "Mean: 10.57\n",
      "Medain: 10.77\n"
     ]
    },
    {
     "data": {
      "image/png": "[encoded data removed]",
      "text/plain": [
       "<Figure size 432x288 with 1 Axes>"
      ]
     },
     "metadata": {
      "image/png": {
       "height": 265,
       "width": 398
      },
      "needs_background": "light"
     },
     "output_type": "display_data"
    }
   ],
   "source": [
    "ax = df_per_read['mean_quality'].hist(bins=100, range=(5, 25))\n",
    "ax.set_xlabel('Quality score')\n",
    "ax.set_ylabel('Numer of reads')\n",
    "\n",
    "print(f'Mean: {np.mean(df_per_read[\"mean_quality\"]):.02f}')\n",
    "print(f'Medain: {np.median(df_per_read[\"mean_quality\"]):.02f}')"
   ]
  },
  {
   "cell_type": "markdown",
   "metadata": {},
   "source": [
    "## Read Alignment\n",
    "\n",
    "CuteSV is a reference alignment based SV caller, meaning the first step in using it to call SVs is to align the reads to the reference genome using an aligner such as Minimap2 or LRA. LRA is the aligner used in the wf-human-sv workflow because it has been determined to provide better results in the context of Human SV detection than minimap2, so we'll use the same approach here, although minimap2 is also a viable option.\n",
    "\n",
    "When aligning reads to a reference, we tend to follow these steps:\n",
    "\n",
    "- Index the reference genome\n",
    "- Align the reads to the reference genome\n",
    "- Sort and Index the output `.sam` file from alignment to create a `.bam` file\n",
    "\n",
    "For a more complete understanding of what these terms mean, see the Introduction to SAM/BAM tutorial provided within EPI2ME Labs."
   ]
  },
  {
   "cell_type": "markdown",
   "metadata": {
    "ExecuteTime": {
     "end_time": "2022-04-24T02:43:11.361235Z",
     "start_time": "2022-04-24T02:43:11.355781Z"
    }
   },
   "source": [
    "这个教程用使用的是lar进行比对，另外可以尝试使用 [Winnowmap](https://github.com/marbl/Winnowmap), 专门用于比对重复序列"
   ]
  },
  {
   "cell_type": "code",
   "execution_count": 13,
   "metadata": {
    "ExecuteTime": {
     "end_time": "2022-04-24T02:28:03.459549Z",
     "start_time": "2022-04-24T02:28:03.451870Z"
    },
    "partialCollapse": true,
    "tags": []
   },
   "outputs": [
    {
     "name": "stdout",
     "output_type": "stream",
     "text": [
      "\u001b[94m lra index -ONT chr20_human_g1k_v37.fasta.gz && seqtk seq -A GM24385.nf7.chr20_af_minimap2.fastq.gz | lra align -ONT -p s -t 48 chr20_human_g1k_v37.fasta.gz - | samtools calmd -u - chr20_human_g1k_v37.fasta.gz | samtools sort -@ 48 -o aligned.bam - && samtools index -@ 48 aligned.bam \u001b[0m\n"
     ]
    }
   ],
   "source": [
    "# Align reads to reference genome using LRA. Creates .bam file (click play)\n",
    "\n",
    "reference = 'chr20_human_g1k_v37.fasta.gz'\n",
    "fastq = 'GM24385.nf7.chr20_af_minimap2.fastq.gz'\n",
    "threads = 48\n",
    "aligned_bam = 'aligned.bam'\n",
    "\n",
    "cmd = f\"\"\"\n",
    "    lra index -ONT {reference} \\\n",
    "    && seqtk seq -A {fastq} \\\n",
    "    | lra align -ONT -p s -t {threads} {reference} - \\\n",
    "    | samtools calmd -u - {reference} \\\n",
    "    | samtools sort -@ {threads} -o {aligned_bam} - \\\n",
    "    && samtools index -@ {threads} {aligned_bam}\n",
    "\"\"\".strip('\\n').replace('    ', '')\n",
    "shell_print(cmd)"
   ]
  },
  {
   "cell_type": "markdown",
   "metadata": {
    "colab_type": "text",
    "id": "wwEzctJxiSQa"
   },
   "source": [
    "### Mapping Analysis (optional)\n",
    "Before calling structural variants in our dataset it is worthwhile to review the key quality characteristics from our `.bam`  file.\n",
    "\n",
    "The `seqkit bam` method is used to prepare a collection of per read-alignment summary observations. These observations will be presented as figures and tables that describe the distribution of mapping qualities, depths of coverage and summarise the numbers of reads and sequence bases that map to the reference genome."
   ]
  },
  {
   "cell_type": "code",
   "execution_count": 14,
   "metadata": {
    "ExecuteTime": {
     "end_time": "2022-04-24T02:28:06.341241Z",
     "start_time": "2022-04-24T02:28:06.335571Z"
    }
   },
   "outputs": [
    {
     "name": "stdout",
     "output_type": "stream",
     "text": [
      "\u001b[94m seqkit bam aligned.bam 2> alignments.seqkit.tsv \u001b[0m\n"
     ]
    }
   ],
   "source": [
    "# Run seqkit bam to get alignment stats (click play)\n",
    "\n",
    "aligned_bam = 'aligned.bam'\n",
    "alignment_stats = 'alignments.seqkit.tsv'\n",
    "\n",
    "cmd = f\"seqkit bam {aligned_bam} 2> {alignment_stats}\"\n",
    "shell_print(cmd)"
   ]
  },
  {
   "cell_type": "code",
   "execution_count": 15,
   "metadata": {
    "ExecuteTime": {
     "end_time": "2022-04-24T02:28:07.464055Z",
     "start_time": "2022-04-24T02:28:06.974482Z"
    }
   },
   "outputs": [
    {
     "data": {
      "text/html": [
       "<div>\n",
       "<style scoped>\n",
       "    .dataframe tbody tr th:only-of-type {\n",
       "        vertical-align: middle;\n",
       "    }\n",
       "\n",
       "    .dataframe tbody tr th {\n",
       "        vertical-align: top;\n",
       "    }\n",
       "\n",
       "    .dataframe thead th {\n",
       "        text-align: right;\n",
       "    }\n",
       "</style>\n",
       "<table border=\"1\" class=\"dataframe\">\n",
       "  <thead>\n",
       "    <tr style=\"text-align: right;\">\n",
       "      <th></th>\n",
       "      <th>Read</th>\n",
       "      <th>Ref</th>\n",
       "      <th>Pos</th>\n",
       "      <th>EndPos</th>\n",
       "      <th>MapQual</th>\n",
       "      <th>Acc</th>\n",
       "      <th>ReadLen</th>\n",
       "      <th>RefAln</th>\n",
       "      <th>RefCov</th>\n",
       "      <th>ReadAln</th>\n",
       "      <th>ReadCov</th>\n",
       "      <th>Strand</th>\n",
       "      <th>LeftClip</th>\n",
       "      <th>RightClip</th>\n",
       "      <th>Flags</th>\n",
       "      <th>IsSec</th>\n",
       "      <th>IsSup</th>\n",
       "    </tr>\n",
       "  </thead>\n",
       "  <tbody>\n",
       "    <tr>\n",
       "      <th>0</th>\n",
       "      <td>be97f83b-3d51-4779-8e2b-bc92a878174e</td>\n",
       "      <td>20</td>\n",
       "      <td>60001</td>\n",
       "      <td>64041</td>\n",
       "      <td>60</td>\n",
       "      <td>93.402</td>\n",
       "      <td>11785</td>\n",
       "      <td>4040</td>\n",
       "      <td>0.006</td>\n",
       "      <td>3940</td>\n",
       "      <td>33.432</td>\n",
       "      <td>-1</td>\n",
       "      <td>7805</td>\n",
       "      <td>40</td>\n",
       "      <td>16</td>\n",
       "      <td>0</td>\n",
       "      <td>0</td>\n",
       "    </tr>\n",
       "    <tr>\n",
       "      <th>1</th>\n",
       "      <td>53ab8f9f-4767-474c-bb37-85cdc87d2d0b</td>\n",
       "      <td>20</td>\n",
       "      <td>60001</td>\n",
       "      <td>90949</td>\n",
       "      <td>60</td>\n",
       "      <td>81.816</td>\n",
       "      <td>44454</td>\n",
       "      <td>30948</td>\n",
       "      <td>0.049</td>\n",
       "      <td>28407</td>\n",
       "      <td>63.902</td>\n",
       "      <td>-1</td>\n",
       "      <td>16006</td>\n",
       "      <td>41</td>\n",
       "      <td>16</td>\n",
       "      <td>0</td>\n",
       "      <td>0</td>\n",
       "    </tr>\n",
       "    <tr>\n",
       "      <th>2</th>\n",
       "      <td>2d34865e-10bc-4043-bbc7-267be5861b4e</td>\n",
       "      <td>20</td>\n",
       "      <td>60005</td>\n",
       "      <td>61073</td>\n",
       "      <td>60</td>\n",
       "      <td>92.216</td>\n",
       "      <td>8513</td>\n",
       "      <td>1068</td>\n",
       "      <td>0.002</td>\n",
       "      <td>1048</td>\n",
       "      <td>12.311</td>\n",
       "      <td>1</td>\n",
       "      <td>7445</td>\n",
       "      <td>20</td>\n",
       "      <td>0</td>\n",
       "      <td>0</td>\n",
       "      <td>0</td>\n",
       "    </tr>\n",
       "    <tr>\n",
       "      <th>3</th>\n",
       "      <td>a9176777-5819-4eee-b426-8b210557c013</td>\n",
       "      <td>20</td>\n",
       "      <td>60005</td>\n",
       "      <td>85933</td>\n",
       "      <td>60</td>\n",
       "      <td>87.272</td>\n",
       "      <td>36824</td>\n",
       "      <td>25928</td>\n",
       "      <td>0.041</td>\n",
       "      <td>25278</td>\n",
       "      <td>68.645</td>\n",
       "      <td>1</td>\n",
       "      <td>11540</td>\n",
       "      <td>6</td>\n",
       "      <td>0</td>\n",
       "      <td>0</td>\n",
       "      <td>0</td>\n",
       "    </tr>\n",
       "    <tr>\n",
       "      <th>4</th>\n",
       "      <td>2b5fb7bc-c545-439c-a818-1a229c2d5e02</td>\n",
       "      <td>20</td>\n",
       "      <td>60005</td>\n",
       "      <td>130667</td>\n",
       "      <td>60</td>\n",
       "      <td>91.335</td>\n",
       "      <td>72372</td>\n",
       "      <td>70662</td>\n",
       "      <td>0.112</td>\n",
       "      <td>68723</td>\n",
       "      <td>94.958</td>\n",
       "      <td>1</td>\n",
       "      <td>3617</td>\n",
       "      <td>32</td>\n",
       "      <td>0</td>\n",
       "      <td>0</td>\n",
       "      <td>0</td>\n",
       "    </tr>\n",
       "  </tbody>\n",
       "</table>\n",
       "</div>"
      ],
      "text/plain": [
       "                                   Read  Ref    Pos  EndPos  MapQual     Acc  \\\n",
       "0  be97f83b-3d51-4779-8e2b-bc92a878174e   20  60001   64041       60  93.402   \n",
       "1  53ab8f9f-4767-474c-bb37-85cdc87d2d0b   20  60001   90949       60  81.816   \n",
       "2  2d34865e-10bc-4043-bbc7-267be5861b4e   20  60005   61073       60  92.216   \n",
       "3  a9176777-5819-4eee-b426-8b210557c013   20  60005   85933       60  87.272   \n",
       "4  2b5fb7bc-c545-439c-a818-1a229c2d5e02   20  60005  130667       60  91.335   \n",
       "\n",
       "   ReadLen  RefAln  RefCov  ReadAln  ReadCov  Strand  LeftClip  RightClip  \\\n",
       "0    11785    4040   0.006     3940   33.432      -1      7805         40   \n",
       "1    44454   30948   0.049    28407   63.902      -1     16006         41   \n",
       "2     8513    1068   0.002     1048   12.311       1      7445         20   \n",
       "3    36824   25928   0.041    25278   68.645       1     11540          6   \n",
       "4    72372   70662   0.112    68723   94.958       1      3617         32   \n",
       "\n",
       "   Flags  IsSec  IsSup  \n",
       "0     16      0      0  \n",
       "1     16      0      0  \n",
       "2      0      0      0  \n",
       "3      0      0      0  \n",
       "4      0      0      0  "
      ]
     },
     "execution_count": 15,
     "metadata": {},
     "output_type": "execute_result"
    }
   ],
   "source": [
    "df = pd.read_csv(alignment_stats, sep='\\t')[[\n",
    "    'Read','Ref','Pos','EndPos','MapQual','Acc','ReadLen','RefAln',\n",
    "    'RefCov','ReadAln','ReadCov','Strand','LeftClip','RightClip',\n",
    "    'Flags','IsSec','IsSup']]\n",
    "df.head()"
   ]
  },
  {
   "cell_type": "markdown",
   "metadata": {
    "colab_type": "text",
    "id": "74RlAR-6lwka"
   },
   "source": [
    "Using the output from `seqkit` we can derive some basic statistics concerning the alignments of reads to the reference sequence:"
   ]
  },
  {
   "cell_type": "code",
   "execution_count": 16,
   "metadata": {
    "ExecuteTime": {
     "end_time": "2022-04-24T02:28:11.112734Z",
     "start_time": "2022-04-24T02:28:11.099150Z"
    }
   },
   "outputs": [],
   "source": [
    "def parse_seqkit(fname):\n",
    "    cols = {\n",
    "        'Read':str, 'MapQual':int, 'Acc':float, 'ReadLen':int,\n",
    "        'ReadAln':int, 'ReadCov':float, 'IsSec':bool, 'IsSup':bool}\n",
    "    df = pd.read_csv(fname, sep=\"\\t\", dtype=cols, usecols=cols.keys())\n",
    "    df['Clipped'] = df['ReadLen'] - df['ReadAln']\n",
    "    df['Type'] = 'Primary'\n",
    "    df.loc[df['IsSec'], 'Type'] = 'Secondary'\n",
    "    df.loc[df['IsSup'], 'Type'] = 'Supplementary'\n",
    "    return df\n",
    "\n",
    "def summarize_seqkit(df):\n",
    "    grouped = df.groupby('Type').agg(**{\n",
    "        'Alignments': ('Read', 'count'),\n",
    "        'Unique Reads': ('Read', 'nunique'),\n",
    "        'Ave. read length': ('ReadLen', 'median'),\n",
    "        'Ave. mapping quality': ('MapQual', 'median'),\n",
    "        'Ave. align length': ('ReadAln', 'median'),\n",
    "        'Total aligned bases': ('ReadAln', 'sum'),\n",
    "        'Total clipped bases': ('Clipped', 'sum')})\n",
    "    for atype in ['Supplementary']:\n",
    "        if atype not in df['Type'].values:\n",
    "            atype_row = {\n",
    "                'Alignments': 0,\n",
    "                'Unique Reads': 0,\n",
    "                'Ave. read length': 0,\n",
    "                'Ave. mapping quality': 0,\n",
    "                'Ave. align length': 0,\n",
    "                'Total aligned bases': 0,\n",
    "                'Total clipped bases': 0\n",
    "            }\n",
    "            grouped = grouped.append(pd.Series(atype_row, name=atype))\n",
    "    grouped.loc[['Supplementary'], ['Ave. read length']] = \"-\"\n",
    "    return grouped.transpose()"
   ]
  },
  {
   "cell_type": "code",
   "execution_count": 17,
   "metadata": {
    "ExecuteTime": {
     "end_time": "2022-04-24T02:28:12.371340Z",
     "start_time": "2022-04-24T02:28:11.970032Z"
    }
   },
   "outputs": [],
   "source": [
    "alignment_stats = 'alignments.seqkit.tsv'\n",
    "seqkit_df = parse_seqkit(alignment_stats)\n",
    "summary_table = summarize_seqkit(seqkit_df)\n",
    "primarys = seqkit_df.loc[seqkit_df['Type'] == 'Primary']"
   ]
  },
  {
   "cell_type": "code",
   "execution_count": 18,
   "metadata": {
    "ExecuteTime": {
     "end_time": "2022-04-24T02:28:13.595123Z",
     "start_time": "2022-04-24T02:28:12.953544Z"
    }
   },
   "outputs": [
    {
     "data": {
      "image/png": "[encoded data removed]",
      "text/plain": [
       "<Figure size 720x288 with 2 Axes>"
      ]
     },
     "metadata": {
      "image/png": {
       "height": 279,
       "width": 710
      },
      "needs_background": "light"
     },
     "output_type": "display_data"
    }
   ],
   "source": [
    "fig, ax = plt.subplots(1, 2, figsize=(10, 4))\n",
    "\n",
    "seqkit_df['Acc'].hist(bins=30, range=(70, 100), ax=ax[0])\n",
    "ax[0].set_ylabel('read count')\n",
    "ax[0].set_xlabel('% alignment accuracy')\n",
    "\n",
    "\n",
    "seqkit_df['ReadCov'].hist(bins=30, range=(90, 100), ax=ax[1])\n",
    "ax[1].set_ylabel('read count')\n",
    "ax[1].set_xlabel('% of read contained in alignment')\n",
    "\n",
    "plt.tight_layout()"
   ]
  },
  {
   "cell_type": "code",
   "execution_count": 19,
   "metadata": {
    "ExecuteTime": {
     "end_time": "2022-04-24T02:28:15.210628Z",
     "start_time": "2022-04-24T02:28:15.201439Z"
    }
   },
   "outputs": [
    {
     "data": {
      "text/html": [
       "<div>\n",
       "<style scoped>\n",
       "    .dataframe tbody tr th:only-of-type {\n",
       "        vertical-align: middle;\n",
       "    }\n",
       "\n",
       "    .dataframe tbody tr th {\n",
       "        vertical-align: top;\n",
       "    }\n",
       "\n",
       "    .dataframe thead th {\n",
       "        text-align: right;\n",
       "    }\n",
       "</style>\n",
       "<table border=\"1\" class=\"dataframe\">\n",
       "  <thead>\n",
       "    <tr style=\"text-align: right;\">\n",
       "      <th>Type</th>\n",
       "      <th>Primary</th>\n",
       "      <th>Supplementary</th>\n",
       "    </tr>\n",
       "  </thead>\n",
       "  <tbody>\n",
       "    <tr>\n",
       "      <th>Alignments</th>\n",
       "      <td>87780</td>\n",
       "      <td>4013</td>\n",
       "    </tr>\n",
       "    <tr>\n",
       "      <th>Unique Reads</th>\n",
       "      <td>87780</td>\n",
       "      <td>2695</td>\n",
       "    </tr>\n",
       "    <tr>\n",
       "      <th>Ave. read length</th>\n",
       "      <td>7069.0</td>\n",
       "      <td>-</td>\n",
       "    </tr>\n",
       "    <tr>\n",
       "      <th>Ave. mapping quality</th>\n",
       "      <td>60.0</td>\n",
       "      <td>60.0</td>\n",
       "    </tr>\n",
       "    <tr>\n",
       "      <th>Ave. align length</th>\n",
       "      <td>6774.0</td>\n",
       "      <td>5701.0</td>\n",
       "    </tr>\n",
       "    <tr>\n",
       "      <th>Total aligned bases</th>\n",
       "      <td>1576219368</td>\n",
       "      <td>65886357</td>\n",
       "    </tr>\n",
       "    <tr>\n",
       "      <th>Total clipped bases</th>\n",
       "      <td>90640547</td>\n",
       "      <td>166659280</td>\n",
       "    </tr>\n",
       "  </tbody>\n",
       "</table>\n",
       "</div>"
      ],
      "text/plain": [
       "Type                     Primary Supplementary\n",
       "Alignments                 87780          4013\n",
       "Unique Reads               87780          2695\n",
       "Ave. read length          7069.0             -\n",
       "Ave. mapping quality        60.0          60.0\n",
       "Ave. align length         6774.0        5701.0\n",
       "Total aligned bases   1576219368      65886357\n",
       "Total clipped bases     90640547     166659280"
      ]
     },
     "execution_count": 19,
     "metadata": {},
     "output_type": "execute_result"
    }
   ],
   "source": [
    "summary_table"
   ]
  },
  {
   "cell_type": "markdown",
   "metadata": {
    "colab_type": "text",
    "id": "nmjfYNJa28v8",
    "tags": []
   },
   "source": [
    "## Calling Structural Variants\n",
    "\n",
    "We will use `cuteSV` to call structural variants. In the code block below, `cuteSV` is called with parameters that define the acceptable size range for a call, minimum read length, minimum read support, and minimum mapping quality.\n",
    "\n",
    "* `min_sv_length` is a minimum length threshold a call must have, which is set to 30 nucleotides by default.\n",
    "* `max_sv_length` is a maximum length threshold above which we will not consider calls, set to 10000 by default.\n",
    "* `min_read_length` is a minimum threshold for read lengths. This is used to reject the shortest mapping sequences and is by default defined as 1000 nucleotides.\n",
    "* `read_support` is a minimum threshold for the number of required supporting reads. The default value requires that three of more reads cover an SV.\n",
    "* `min_read_mapping_quality` was defined in the configuration form at the top of the analysis section (a value of 20 by default) and is a minimum threshold used to reject reads with lower quality mapping scores.\n",
    "\n",
    "These parameters are permissive and will produce a large number of candidate SVs. This is intentional and subsequent steps in the workflow will qualitatively filter and refine the SV collection."
   ]
  },
  {
   "cell_type": "code",
   "execution_count": 20,
   "metadata": {
    "ExecuteTime": {
     "end_time": "2022-04-24T02:28:18.115475Z",
     "start_time": "2022-04-24T02:28:18.107167Z"
    }
   },
   "outputs": [
    {
     "name": "stdout",
     "output_type": "stream",
     "text": [
      "\u001b[94m cuteSV --threads 48 --genotype -l 30 -L 1000000 -r 1000 -q 20 -s 3 --max_cluster_bias_INS 100 --diff_ratio_merging_INS 0.3 --max_cluster_bias_DEL 100 --diff_ratio_merging_DEL 0.3 aligned.bam chr20_human_g1k_v37.fasta calls.vcf . \u001b[0m\n"
     ]
    }
   ],
   "source": [
    "# Finding candidate variants with cuteSV (click play)\n",
    "\n",
    "renamed = reference\n",
    "if reference.endswith('.gz'):\n",
    "    renamed = reference.split('.gz')[0]\n",
    "    unzipper = f\"bgzip -d -c {reference} > {renamed}\"\n",
    "    \n",
    "min_sv_length = 30\n",
    "max_sv_length = 1000000\n",
    "min_read_length = 1000\n",
    "min_read_mapping_quality = 20\n",
    "min_read_support = 3\n",
    "calls_vcf = 'calls.vcf'\n",
    "\n",
    "cmd = f\"\"\"\n",
    "    cuteSV \\\n",
    "        --threads {threads} \\\n",
    "        --genotype \\\n",
    "        -l {min_sv_length} \\\n",
    "        -L {max_sv_length} \\\n",
    "        -r {min_read_length} \\\n",
    "        -q {min_read_mapping_quality} \\\n",
    "        -s {min_read_support} \\\n",
    "        --max_cluster_bias_INS 100 \\\n",
    "        --diff_ratio_merging_INS 0.3 \\\n",
    "        --max_cluster_bias_DEL 100 \\\n",
    "        --diff_ratio_merging_DEL 0.3 \\\n",
    "        {aligned_bam} \\\n",
    "        {renamed} \\\n",
    "        {calls_vcf} .\n",
    "\"\"\".strip('\\n').replace('    ', '')\n",
    "\n",
    "shell_print(cmd)"
   ]
  },
  {
   "cell_type": "markdown",
   "metadata": {
    "colab_type": "text",
    "id": "DsDoJEdvGGZ0",
    "tags": []
   },
   "source": [
    "### Filtering SVs by type, region, depth and frequency\n",
    "\n",
    "The complete set of SVs from `cuteSV` can be filtered to regions of interest using the `.bed` file specified in the sections above, allowing for targeted downstream analysis."
   ]
  },
  {
   "cell_type": "markdown",
   "metadata": {
    "colab_type": "text",
    "id": "Pl4vxXlZkUcu"
   },
   "source": [
    "To avoid false positive calls due to low read coverage we will now assess the read depth across the regions in the dataset using the `mosdepth` tool:"
   ]
  },
  {
   "cell_type": "code",
   "execution_count": 21,
   "metadata": {
    "ExecuteTime": {
     "end_time": "2022-04-24T02:28:19.605173Z",
     "start_time": "2022-04-24T02:28:19.598043Z"
    }
   },
   "outputs": [
    {
     "name": "stdout",
     "output_type": "stream",
     "text": [
      "\u001b[94m mosdepth -n -x -b target.bed -t 48 depth aligned.bam \u001b[0m\n"
     ]
    }
   ],
   "source": [
    "# Running mosdepth to calculate read coverage (click play)\n",
    "target_bed = 'target.bed'\n",
    "threads = 48\n",
    "\n",
    "if target_bed != \"\":\n",
    "    bed_opt = \"-b {}\".format(target_bed)\n",
    "else:\n",
    "    bed_opt = \"\"\n",
    "cmd = f\"mosdepth -n -x {bed_opt} -t {threads} depth {aligned_bam}\"\n",
    "\n",
    "shell_print(cmd)"
   ]
  },
  {
   "cell_type": "markdown",
   "metadata": {
    "colab_type": "text",
    "id": "gGhdaYazk-ep"
   },
   "source": [
    "Using the average read depth we can compute a minimum read depth required to call variants. The code below first attempts to establish a bound using the average sequencing depth. If this lower that a minimum bound (`min_support`), then the higher value is chosen.\n",
    "\n",
    "The original `.vcf` file produced by `cuteSV` can now be filtered by the depth threshold reported above, as well as by the region given with the regions bedfile, and by type of SV (insertions and deletions by default).\n",
    "\n",
    "Ensure that you click the form `Enter` button on the form below to perform the filtering step.\n",
    " \n",
    " "
   ]
  },
  {
   "cell_type": "code",
   "execution_count": 23,
   "metadata": {
    "ExecuteTime": {
     "end_time": "2022-04-24T02:28:54.568452Z",
     "start_time": "2022-04-24T02:28:54.542556Z"
    },
    "autorun": false,
    "cellView": "form",
    "colab": {
     "base_uri": "https://localhost:8080/",
     "height": 34
    },
    "colab_type": "code",
    "id": "2FiGRUGwgDGn",
    "outputId": "488d3b59-9e75-40a4-9550-7f76e7f3e102",
    "partialCollapse": true,
    "scrolled": true,
    "tags": []
   },
   "outputs": [
    {
     "name": "stdout",
     "output_type": "stream",
     "text": [
      "\u001b[94m bcftools view -T target.bed -i '( SVTYPE = \"INS\" || SVTYPE = \"DEL\" ) && ABS(SVLEN) >= 30 && ABS(SVLEN) <= 1000000 && INFO/RE >= 5' calls.vcf > filtered.vcf \u001b[0m\n"
     ]
    }
   ],
   "source": [
    "# Run VCF filtering step (click play)\n",
    "import pandas as pd\n",
    "threshold_lookup = ['0'] + ['2'] * 10 + ['3'] * 9 + ['5'] * 20 + ['8'] * 100\n",
    "\n",
    "\n",
    "def calculate_average_depth(path):\n",
    "    \"\"\"Get the average read depth.\"\"\"    \n",
    "    depth_table = pd.read_csv(\n",
    "        path, \n",
    "        compression=\"gzip\", \n",
    "        sep=\"\\t\", \n",
    "        header=None, \n",
    "        names=(\"chr\", \"start\", \"end\", \"avg_depth\"))\n",
    "    depth_table[\"length\"] = depth_table[\"end\"] - depth_table[\"start\"]\n",
    "    depth_table[\"sum_depth\"] = depth_table[\"length\"] * depth_table[\"avg_depth\"]\n",
    "    total_bases = sum(depth_table[\"length\"])\n",
    "    sum_depth = sum(depth_table[\"sum_depth\"])\n",
    "    avg_depth = sum_depth / total_bases\n",
    "    \n",
    "    return avg_depth\n",
    "\n",
    "\n",
    "# Get SV type filters\n",
    "sv_types = ['INS', 'DEL']\n",
    "\n",
    "sv_type_filters = []\n",
    "for svtype in sv_types:\n",
    "    sv_type_filters.append(f'SVTYPE = \\\"{svtype}\\\"')\n",
    "filter_sv_types = f\"( {(' || ').join(sv_type_filters)} )\"\n",
    "\n",
    "# Get length filters\n",
    "filter_min_len = f'ABS(SVLEN) >= {min_sv_length}'\n",
    "filter_max_len = f'ABS(SVLEN) <= {max_sv_length}'\n",
    "\n",
    "# Get min read support filter\n",
    "depth_bedfile = 'depth.regions.bed.gz'\n",
    "avg_depth = calculate_average_depth(depth_bedfile)\n",
    "avg_depth = min(avg_depth, len(threshold_lookup) - 1)\n",
    "detected_read_support = int(threshold_lookup[round(avg_depth)])\n",
    "\n",
    "read_support = min_read_support\n",
    "if detected_read_support > min_read_support:\n",
    "    read_support = detected_read_support\n",
    "\n",
    "filter_min_read_support = f'INFO/RE >= {read_support}'\n",
    "\n",
    "# Build filter string\n",
    "filters = [\n",
    "    filter_sv_types,\n",
    "    filter_min_len,\n",
    "    filter_max_len,\n",
    "    filter_min_read_support\n",
    "]\n",
    "filter_string = f\"-i '{' && '.join(filters)}'\"\n",
    "\n",
    "# Add target_bed filter (optional)\n",
    "if target_bed != \"\":\n",
    "    filter_string = f\"-T {target_bed} \" + filter_string\n",
    "\n",
    "# Print command to stdout\n",
    "filtered_vcf = \"filtered.vcf\"\n",
    "cmd = f\"bcftools view {filter_string} {calls_vcf} > {filtered_vcf}\"\n",
    "shell_print(cmd)\n"
   ]
  },
  {
   "cell_type": "code",
   "execution_count": 24,
   "metadata": {
    "ExecuteTime": {
     "end_time": "2022-04-24T02:28:57.587301Z",
     "start_time": "2022-04-24T02:28:57.581963Z"
    },
    "partialCollapse": true,
    "tags": []
   },
   "outputs": [
    {
     "name": "stdout",
     "output_type": "stream",
     "text": [
      "\u001b[94m bcftools sort filtered.vcf > sorted.filtered.vcf \u001b[0m\n",
      "\u001b[94m bgzip -f sorted.filtered.vcf && bcftools index sorted.filtered.vcf.gz \u001b[0m\n"
     ]
    }
   ],
   "source": [
    "# Run VCF sort and indexing step (click play)\n",
    "\n",
    "sorted_filtered_vcf = \"sorted.filtered.vcf\"\n",
    "sorted_filtered_vcf_gz = \"sorted.filtered.vcf.gz\"\n",
    "\n",
    "cmd = f\"bcftools sort {filtered_vcf} > {sorted_filtered_vcf}\"\n",
    "shell_print(cmd)\n",
    "\n",
    "cmd = f\"bgzip -f {sorted_filtered_vcf} && bcftools index {sorted_filtered_vcf_gz}\"\n",
    "shell_print(cmd)"
   ]
  },
  {
   "cell_type": "markdown",
   "metadata": {
    "colab_type": "text",
    "id": "Ux90vCjMGP3j"
   },
   "source": [
    "## Analysis\n",
    "\n",
    "In this section we will analyse the called and filtered variants. There are many more interesting things which can be learnt from the variant calls, including specific biological questions of interest. Here however we focus on simple, generic properties of the discovered variants.\n",
    "\n",
    "To start we can generate plots indicating the occurence and density of SVs throughout the genome:"
   ]
  },
  {
   "cell_type": "code",
   "execution_count": 25,
   "metadata": {
    "ExecuteTime": {
     "end_time": "2022-04-24T02:29:00.379393Z",
     "start_time": "2022-04-24T02:29:00.314189Z"
    },
    "cellView": "form",
    "colab": {
     "base_uri": "https://localhost:8080/",
     "height": 347
    },
    "colab_type": "code",
    "id": "9wf0FCOBt168",
    "outputId": "9e541088-5f92-4c58-c338-d0ba378f100f",
    "partialCollapse": true,
    "tags": []
   },
   "outputs": [],
   "source": [
    "# Plotting SV density karyograms (click play)\n",
    "def parse_vcf(fname):\n",
    "    header = \"CHROM POS ID REF ALT QUAL FILTER INFO FORMAT GT\".split()\n",
    "    vcf = pd.read_csv(fname, delimiter='\\t', comment='#', names=header, dtype={'CHROM':str})\n",
    "    #print(vcf.head())\n",
    "    # The INFO field isn't quite a table, so this is cumbersome\n",
    "    info = vcf['INFO'].str.split(pat=\";\",expand=True, n=1)\n",
    "    vcf['STATUS'] = info[0]\n",
    "    vcf['details'] = info[1].str.split(\";\").apply(lambda x: dict([y.split(\"=\") for y in x]))\n",
    "    for field in ['SVTYPE', 'SVLEN']:\n",
    "        vcf[field] = vcf['details'].apply(lambda x: x[field])\n",
    "    # filter to chromosome\n",
    "    allowed = [str(x) for x in range(1,23)] + ['X','Y']\n",
    "    vcf = vcf.loc[vcf['CHROM'].isin(allowed)]\n",
    "    for orig, rename in (('INS', 'Insertion'), ('DEL', 'Deletion')):\n",
    "        vcf.loc[vcf['SVTYPE'] == orig, 'SVTYPE'] = rename\n",
    "    vcf['SVLEN'] = vcf['SVLEN'].astype(int)\n",
    "    return vcf\n",
    "\n",
    "\n",
    "sorted_filtered_vcf_gz = 'sorted.filtered.vcf.gz'\n",
    "vcf = parse_vcf(sorted_filtered_vcf_gz)"
   ]
  },
  {
   "cell_type": "code",
   "execution_count": 26,
   "metadata": {
    "ExecuteTime": {
     "end_time": "2022-04-24T02:29:00.833244Z",
     "start_time": "2022-04-24T02:29:00.825142Z"
    }
   },
   "outputs": [],
   "source": [
    "# load genome size\n",
    "from collections import defaultdict\n",
    "\n",
    "infile = '/data/Zhaijx/mowp/db/hg38/dna_chr/hg38.chr.fasta.size'\n",
    "genome_size = {}\n",
    "exclude_chrom = {'Pt', 'Mt'}\n",
    "with open(infile, 'r') as f:\n",
    "    for line in f:\n",
    "        line = line.strip().split('\\t')\n",
    "        if line[0] not in exclude_chrom:\n",
    "            genome_size[line[0].replace('chr', '')] = int(line[1])"
   ]
  },
  {
   "cell_type": "code",
   "execution_count": 27,
   "metadata": {
    "ExecuteTime": {
     "end_time": "2022-04-24T02:29:02.453537Z",
     "start_time": "2022-04-24T02:29:01.580432Z"
    },
    "scrolled": false
   },
   "outputs": [
    {
     "data": {
      "image/png": "[encoded data removed]",
      "text/plain": [
       "<Figure size 1152x432 with 2 Axes>"
      ]
     },
     "metadata": {
      "image/png": {
       "height": 390,
       "width": 927
      },
      "needs_background": "light"
     },
     "output_type": "display_data"
    }
   ],
   "source": [
    "fig, ax = plt.subplots(1, 2, figsize=(16, 6))\n",
    "i = 0\n",
    "for sv_types, marker_color in zip(('Deletion', 'Insertion'), pal):\n",
    "    temp = vcf.loc[vcf['SVTYPE'] == sv_types]\n",
    "    data = defaultdict(lambda: [])\n",
    "    for item in temp.itertuples():\n",
    "        data[item.CHROM].append((item.POS, 1))\n",
    "\n",
    "    plot.karyotype(data, genome_size, marker_color=marker_color,\n",
    "                   formatter='M', spacing=.5, ax=ax[i], figsize=(8, 6), marker_linewidth=.1)\n",
    "    ax[i].set_title(sv_types)\n",
    "    i += 1"
   ]
  },
  {
   "cell_type": "markdown",
   "metadata": {
    "colab_type": "text",
    "id": "N7UPwFi_BbUg"
   },
   "source": [
    "For a more quantitative view of the data, let us examine the length distributions of the called variants separated by type:"
   ]
  },
  {
   "cell_type": "code",
   "execution_count": 28,
   "metadata": {
    "ExecuteTime": {
     "end_time": "2022-04-24T02:29:04.677566Z",
     "start_time": "2022-04-24T02:29:04.648706Z"
    }
   },
   "outputs": [
    {
     "data": {
      "text/html": [
       "<div>\n",
       "<style scoped>\n",
       "    .dataframe tbody tr th:only-of-type {\n",
       "        vertical-align: middle;\n",
       "    }\n",
       "\n",
       "    .dataframe tbody tr th {\n",
       "        vertical-align: top;\n",
       "    }\n",
       "\n",
       "    .dataframe thead th {\n",
       "        text-align: right;\n",
       "    }\n",
       "</style>\n",
       "<table border=\"1\" class=\"dataframe\">\n",
       "  <thead>\n",
       "    <tr style=\"text-align: right;\">\n",
       "      <th>SVTYPE</th>\n",
       "      <th>Deletion</th>\n",
       "      <th>Insertion</th>\n",
       "    </tr>\n",
       "  </thead>\n",
       "  <tbody>\n",
       "    <tr>\n",
       "      <th>Count</th>\n",
       "      <td>407.0</td>\n",
       "      <td>286.0</td>\n",
       "    </tr>\n",
       "    <tr>\n",
       "      <th>Min. Length</th>\n",
       "      <td>30.0</td>\n",
       "      <td>30.0</td>\n",
       "    </tr>\n",
       "    <tr>\n",
       "      <th>Ave. Length</th>\n",
       "      <td>41.0</td>\n",
       "      <td>151.0</td>\n",
       "    </tr>\n",
       "    <tr>\n",
       "      <th>Max. Length</th>\n",
       "      <td>140015.0</td>\n",
       "      <td>11299.0</td>\n",
       "    </tr>\n",
       "  </tbody>\n",
       "</table>\n",
       "</div>"
      ],
      "text/plain": [
       "SVTYPE       Deletion  Insertion\n",
       "Count           407.0      286.0\n",
       "Min. Length      30.0       30.0\n",
       "Ave. Length      41.0      151.0\n",
       "Max. Length  140015.0    11299.0"
      ]
     },
     "execution_count": 28,
     "metadata": {},
     "output_type": "execute_result"
    }
   ],
   "source": [
    "vcf_summary = vcf.groupby('SVTYPE').agg(**{\n",
    "        'Count': ('POS', 'count'),\n",
    "        'Min. Length': ('SVLEN', lambda x: np.min(x.abs())),\n",
    "        'Ave. Length': ('SVLEN', lambda x: np.median(x.abs())),\n",
    "        'Max. Length': ('SVLEN', lambda x: np.max(x.abs()))}).transpose()\n",
    "\n",
    "vcf_summary"
   ]
  },
  {
   "cell_type": "code",
   "execution_count": 30,
   "metadata": {
    "ExecuteTime": {
     "end_time": "2022-04-24T02:29:36.868520Z",
     "start_time": "2022-04-24T02:29:36.189416Z"
    }
   },
   "outputs": [
    {
     "data": {
      "image/png": "[encoded data removed]",
      "text/plain": [
       "<Figure size 720x288 with 2 Axes>"
      ]
     },
     "metadata": {
      "image/png": {
       "height": 281,
       "width": 601
      },
      "needs_background": "light"
     },
     "output_type": "display_data"
    }
   ],
   "source": [
    "sv_types = ('Insertion', 'Deletion')\n",
    "\n",
    "fig, ax = plt.subplots(1, 2, figsize=(10, 4))\n",
    "for i, (sv, color) in enumerate(zip(sv_types, pal)):\n",
    "    data = np.log10(vcf.loc[vcf['SVTYPE'] == sv, 'SVLEN'].abs())\n",
    "    sns.histplot(data, bins=50, ax=ax[i], color=color, stat='percent')\n",
    "    ax[i].set_xlabel('log10(SV length / bases)')\n",
    "    ax[i].set_title(f'{sv} SV lengths')\n",
    "    plot.despine(ax[i])"
   ]
  },
  {
   "cell_type": "markdown",
   "metadata": {
    "colab_type": "text",
    "id": "iNWkRM8GIMPQ"
   },
   "source": [
    "## Summary\n",
    "\n",
    "This tutorial has stepped through the calling an summary analysis of structural variants implied by an Oxford Nanopore long read dataset. Using the `cuteSV` package to call variants the types, lengths, and location of variants has been explored.\n",
    "\n",
    "The analysis presented can also be run on any `.bam` alignment file generated by `lra` which retains supplementary alignments.\n"
   ]
  },
  {
   "cell_type": "markdown",
   "metadata": {
    "colab_type": "text",
    "id": "3ljkPcXocz3u"
   },
   "source": [
    "## Appendix \n",
    "\n",
    "**Example code for the preparation of a bed file**\n",
    "\n",
    "In the workflow form at the head of this tutorial a requirement for a BED coordinate file was introduced. An appropriate `.bed` file may be prepared from a `.fasta` format reference genome with the following command.\n",
    "\n",
    "```\n",
    "$ pip install pyfaidx  \n",
    "$ faidx --transform bed test.fasta > test.bed\n",
    "```"
   ]
  },
  {
   "cell_type": "code",
   "execution_count": null,
   "metadata": {},
   "outputs": [],
   "source": []
  }
 ],
 "metadata": {
  "colab": {
   "collapsed_sections": [],
   "include_colab_link": true,
   "name": "Structural Variation Tutorial",
   "provenance": [],
   "toc_visible": true
  },
  "kernelspec": {
   "display_name": "Python 3 (ipykernel)",
   "language": "python",
   "name": "python3"
  },
  "language_info": {
   "codemirror_mode": {
    "name": "ipython",
    "version": 3
   },
   "file_extension": ".py",
   "mimetype": "text/x-python",
   "name": "python",
   "nbconvert_exporter": "python",
   "pygments_lexer": "ipython3",
   "version": "3.8.8"
  },
  "toc": {
   "base_numbering": 1,
   "nav_menu": {},
   "number_sections": true,
   "sideBar": true,
   "skip_h1_title": false,
   "title_cell": "Table of Contents",
   "title_sidebar": "Contents",
   "toc_cell": false,
   "toc_position": {},
   "toc_section_display": true,
   "toc_window_display": true
  }
 },
 "nbformat": 4,
 "nbformat_minor": 4
}
